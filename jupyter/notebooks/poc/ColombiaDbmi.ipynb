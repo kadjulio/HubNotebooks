{
 "cells": [
  {
   "cell_type": "code",
   "execution_count": 1,
   "metadata": {},
   "outputs": [],
   "source": [
    "import pandas as pd\n",
    "import csv\n",
    "from collections import defaultdict"
   ]
  },
  {
   "cell_type": "code",
   "execution_count": 9,
   "metadata": {},
   "outputs": [],
   "source": [
    "\n",
    "disease_list = []\n",
    "\n",
    "def return_list(disease):\n",
    "    disease_list = []\n",
    "    match = disease.replace('^','_').split('_')\n",
    "    ctr = 1\n",
    "    for group in match:\n",
    "        if ctr%2==0:\n",
    "            disease_list.append(group)\n",
    "        ctr = ctr + 1\n",
    "\n",
    "    return disease_list\n",
    "\n",
    "with open(\"../../data/raw/dataset_uncleaned.csv\", encoding=\"ISO-8859-1\") as csvfile:\n",
    "    reader = csv.reader(csvfile)\n",
    "    disease = \"\"\n",
    "    weight = 0\n",
    "    disease_list = []\n",
    "    dict_wt = {}\n",
    "    dict_ = defaultdict(list)\n",
    "    \n",
    "    for row in reader:\n",
    "        if row[0] != \"\\xc2\\xa0\" and row[0] != \"\":\n",
    "            disease = row[0]\n",
    "            disease_list = return_list(disease)\n",
    "            weight = row[1]\n",
    "\n",
    "        if row[2] != \"\\xc2\\xa0\" and row[2] != \"\":\n",
    "            symptom_list = return_list(row[2])\n",
    "\n",
    "            for d in disease_list:\n",
    "                for s in symptom_list:\n",
    "                    dict_[d].append(s)\n",
    "                dict_wt[d] = weight\n"
   ]
  },
  {
   "cell_type": "code",
   "execution_count": 10,
   "metadata": {},
   "outputs": [],
   "source": [
    "with open(\"../../data/processed/dataset_clean.csv\",\"w\") as csvfile:\n",
    "    writer = csv.writer(csvfile)\n",
    "    for key,values in dict_.items():\n",
    "        for v in values:\n",
    "            key = str.encode(key).decode('utf-8')\n",
    "            writer.writerow([key,v,dict_wt[key]])"
   ]
  },
  {
   "cell_type": "code",
   "execution_count": 11,
   "metadata": {
    "collapsed": true
   },
   "outputs": [],
   "source": [
    "columns = ['Source','Target','Weight']"
   ]
  },
  {
   "cell_type": "code",
   "execution_count": 15,
   "metadata": {
    "collapsed": false
   },
   "outputs": [
    {
     "data": {
      "text/html": [
       "<div>\n",
       "<style scoped>\n",
       "    .dataframe tbody tr th:only-of-type {\n",
       "        vertical-align: middle;\n",
       "    }\n",
       "\n",
       "    .dataframe tbody tr th {\n",
       "        vertical-align: top;\n",
       "    }\n",
       "\n",
       "    .dataframe thead th {\n",
       "        text-align: right;\n",
       "    }\n",
       "</style>\n",
       "<table border=\"1\" class=\"dataframe\">\n",
       "  <thead>\n",
       "    <tr style=\"text-align: right;\">\n",
       "      <th></th>\n",
       "      <th>Source</th>\n",
       "      <th>Target</th>\n",
       "      <th>Weight</th>\n",
       "    </tr>\n",
       "  </thead>\n",
       "  <tbody>\n",
       "    <tr>\n",
       "      <th>0</th>\n",
       "      <td>hypertensive disease</td>\n",
       "      <td>pain chest</td>\n",
       "      <td>3363</td>\n",
       "    </tr>\n",
       "    <tr>\n",
       "      <th>1</th>\n",
       "      <td>hypertensive disease</td>\n",
       "      <td>shortness of breath</td>\n",
       "      <td>3363</td>\n",
       "    </tr>\n",
       "    <tr>\n",
       "      <th>2</th>\n",
       "      <td>hypertensive disease</td>\n",
       "      <td>dizziness</td>\n",
       "      <td>3363</td>\n",
       "    </tr>\n",
       "    <tr>\n",
       "      <th>3</th>\n",
       "      <td>hypertensive disease</td>\n",
       "      <td>asthenia</td>\n",
       "      <td>3363</td>\n",
       "    </tr>\n",
       "    <tr>\n",
       "      <th>4</th>\n",
       "      <td>hypertensive disease</td>\n",
       "      <td>fall</td>\n",
       "      <td>3363</td>\n",
       "    </tr>\n",
       "  </tbody>\n",
       "</table>\n",
       "</div>"
      ],
      "text/plain": [
       "                 Source               Target  Weight\n",
       "0  hypertensive disease           pain chest    3363\n",
       "1  hypertensive disease  shortness of breath    3363\n",
       "2  hypertensive disease            dizziness    3363\n",
       "3  hypertensive disease             asthenia    3363\n",
       "4  hypertensive disease                 fall    3363"
      ]
     },
     "execution_count": 15,
     "metadata": {},
     "output_type": "execute_result"
    }
   ],
   "source": [
    "data = pd.read_csv(\"../../data/processed/dataset_clean.csv\", names=columns, encoding=\"ISO-8859-1\")\n",
    "data.head()"
   ]
  },
  {
   "cell_type": "code",
   "execution_count": 16,
   "metadata": {
    "collapsed": false
   },
   "outputs": [],
   "source": [
    "data.to_csv(\"../../data/processed/dataset_clean.csv\",index=False)"
   ]
  },
  {
   "cell_type": "code",
   "execution_count": 17,
   "metadata": {
    "collapsed": false
   },
   "outputs": [],
   "source": [
    "slist = []\n",
    "dlist = []\n",
    "with open(\"../../data/processed/nodetable.csv\",\"w\") as csvfile:\n",
    "    writer = csv.writer(csvfile)\n",
    "\n",
    "    for key,values in dict_.items():\n",
    "        for v in values:\n",
    "            if v not in slist:\n",
    "                writer.writerow([v,v,\"symptom\"])\n",
    "                slist.append(v)\n",
    "        if key not in dlist:\n",
    "            writer.writerow([key,key,\"disease\"])\n",
    "            dlist.append(key)"
   ]
  },
  {
   "cell_type": "code",
   "execution_count": 18,
   "metadata": {
    "collapsed": true
   },
   "outputs": [],
   "source": [
    "nt_columns = ['Id','Label','Attribute']"
   ]
  },
  {
   "cell_type": "code",
   "execution_count": 19,
   "metadata": {
    "collapsed": false
   },
   "outputs": [],
   "source": [
    "nt_data = pd.read_csv(\"../../data/processed/nodetable.csv\",names=nt_columns, encoding =\"ISO-8859-1\",)"
   ]
  },
  {
   "cell_type": "code",
   "execution_count": 20,
   "metadata": {
    "collapsed": false
   },
   "outputs": [
    {
     "data": {
      "text/html": [
       "<div>\n",
       "<style scoped>\n",
       "    .dataframe tbody tr th:only-of-type {\n",
       "        vertical-align: middle;\n",
       "    }\n",
       "\n",
       "    .dataframe tbody tr th {\n",
       "        vertical-align: top;\n",
       "    }\n",
       "\n",
       "    .dataframe thead th {\n",
       "        text-align: right;\n",
       "    }\n",
       "</style>\n",
       "<table border=\"1\" class=\"dataframe\">\n",
       "  <thead>\n",
       "    <tr style=\"text-align: right;\">\n",
       "      <th></th>\n",
       "      <th>Id</th>\n",
       "      <th>Label</th>\n",
       "      <th>Attribute</th>\n",
       "    </tr>\n",
       "  </thead>\n",
       "  <tbody>\n",
       "    <tr>\n",
       "      <th>0</th>\n",
       "      <td>pain chest</td>\n",
       "      <td>pain chest</td>\n",
       "      <td>symptom</td>\n",
       "    </tr>\n",
       "    <tr>\n",
       "      <th>1</th>\n",
       "      <td>shortness of breath</td>\n",
       "      <td>shortness of breath</td>\n",
       "      <td>symptom</td>\n",
       "    </tr>\n",
       "    <tr>\n",
       "      <th>2</th>\n",
       "      <td>dizziness</td>\n",
       "      <td>dizziness</td>\n",
       "      <td>symptom</td>\n",
       "    </tr>\n",
       "    <tr>\n",
       "      <th>3</th>\n",
       "      <td>asthenia</td>\n",
       "      <td>asthenia</td>\n",
       "      <td>symptom</td>\n",
       "    </tr>\n",
       "    <tr>\n",
       "      <th>4</th>\n",
       "      <td>fall</td>\n",
       "      <td>fall</td>\n",
       "      <td>symptom</td>\n",
       "    </tr>\n",
       "  </tbody>\n",
       "</table>\n",
       "</div>"
      ],
      "text/plain": [
       "                    Id                Label Attribute\n",
       "0           pain chest           pain chest   symptom\n",
       "1  shortness of breath  shortness of breath   symptom\n",
       "2            dizziness            dizziness   symptom\n",
       "3             asthenia             asthenia   symptom\n",
       "4                 fall                 fall   symptom"
      ]
     },
     "execution_count": 20,
     "metadata": {},
     "output_type": "execute_result"
    }
   ],
   "source": [
    "nt_data.head()"
   ]
  },
  {
   "cell_type": "code",
   "execution_count": 21,
   "metadata": {
    "collapsed": true
   },
   "outputs": [],
   "source": [
    "nt_data.to_csv(\"../../data/processed/nodetable.csv\",index=False)"
   ]
  }
 ],
 "metadata": {
  "kernelspec": {
   "display_name": "Medicision",
   "language": "python",
   "name": "medicision"
  },
  "language_info": {
   "codemirror_mode": {
    "name": "ipython",
    "version": 3
   },
   "file_extension": ".py",
   "mimetype": "text/x-python",
   "name": "python",
   "nbconvert_exporter": "python",
   "pygments_lexer": "ipython3",
   "version": "3.6.7"
  }
 },
 "nbformat": 4,
 "nbformat_minor": 2
}
