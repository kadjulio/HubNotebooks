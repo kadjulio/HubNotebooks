{
 "cells": [
  {
   "cell_type": "code",
   "execution_count": 2,
   "metadata": {},
   "outputs": [],
   "source": [
    "import pandas as pd\n",
    "import numpy as np\n",
    "import seaborn as sns\n",
    "import matplotlib.pyplot as plt\n",
    "import os\n",
    "from pandas import DataFrame as df"
   ]
  },
  {
   "cell_type": "code",
   "execution_count": 3,
   "metadata": {},
   "outputs": [],
   "source": [
    "import warnings\n",
    "warnings.simplefilter(action='ignore', category=FutureWarning)"
   ]
  },
  {
   "cell_type": "code",
   "execution_count": 4,
   "metadata": {},
   "outputs": [],
   "source": [
    "import ipytest\n",
    "import pytest\n",
    "\n",
    "__file__ = \"NatureDataset.ipynb\""
   ]
  },
  {
   "cell_type": "code",
   "execution_count": 5,
   "metadata": {
    "scrolled": true
   },
   "outputs": [],
   "source": [
    "dataf = pd.read_csv(\"../datasets/disease.csv\", sep=' ', delimiter='\\t')"
   ]
  },
  {
   "cell_type": "markdown",
   "metadata": {},
   "source": [
    "### Unit tests"
   ]
  },
  {
   "cell_type": "code",
   "execution_count": 6,
   "metadata": {},
   "outputs": [
    {
     "name": "stdout",
     "output_type": "stream",
     "text": [
      "=============================== test session starts ===============================\n",
      "platform linux -- Python 3.6.7, pytest-4.3.1, py-1.8.0, pluggy-0.9.0\n",
      "rootdir: /home/tgey/Medicision/IA/Notebooks, inifile:\n",
      "collected 1 item\n",
      "\n",
      "NatureDataset.py .                                                          [100%]\n",
      "\n",
      "============================ 1 passed in 0.20 seconds =============================\n"
     ]
    }
   ],
   "source": [
    "def test_import_data():\n",
    "    assert os.path.exists(\"../datasets/disease.csv\") == 1\n",
    "    assert pd.read_csv(\"../datasets/disease.csv\", sep=' ', delimiter='\\t').size != 0\n",
    "ipytest.run()"
   ]
  },
  {
   "cell_type": "markdown",
   "metadata": {},
   "source": [
    "# Data Exploration"
   ]
  },
  {
   "cell_type": "markdown",
   "metadata": {},
   "source": [
    "## Dataset discover"
   ]
  },
  {
   "cell_type": "code",
   "execution_count": 7,
   "metadata": {},
   "outputs": [
    {
     "name": "stdout",
     "output_type": "stream",
     "text": [
      "<class 'pandas.core.frame.DataFrame'>\n",
      "RangeIndex: 147978 entries, 0 to 147977\n",
      "Data columns (total 4 columns):\n",
      "MeSH Symptom Term    147978 non-null object\n",
      "MeSH Disease Term    147978 non-null object\n",
      "PubMed occurrence    147978 non-null int64\n",
      "TFIDF score          147978 non-null float64\n",
      "dtypes: float64(1), int64(1), object(2)\n",
      "memory usage: 4.5+ MB\n"
     ]
    }
   ],
   "source": [
    "dataf.info()"
   ]
  },
  {
   "cell_type": "code",
   "execution_count": 8,
   "metadata": {},
   "outputs": [
    {
     "data": {
      "text/plain": [
       "Index(['MeSH Symptom Term', 'MeSH Disease Term', 'PubMed occurrence',\n",
       "       'TFIDF score'],\n",
       "      dtype='object')"
      ]
     },
     "execution_count": 8,
     "metadata": {},
     "output_type": "execute_result"
    }
   ],
   "source": [
    "dataf.columns"
   ]
  },
  {
   "cell_type": "code",
   "execution_count": 9,
   "metadata": {},
   "outputs": [
    {
     "data": {
      "text/html": [
       "<div>\n",
       "<style scoped>\n",
       "    .dataframe tbody tr th:only-of-type {\n",
       "        vertical-align: middle;\n",
       "    }\n",
       "\n",
       "    .dataframe tbody tr th {\n",
       "        vertical-align: top;\n",
       "    }\n",
       "\n",
       "    .dataframe thead th {\n",
       "        text-align: right;\n",
       "    }\n",
       "</style>\n",
       "<table border=\"1\" class=\"dataframe\">\n",
       "  <thead>\n",
       "    <tr style=\"text-align: right;\">\n",
       "      <th></th>\n",
       "      <th>Symptoms</th>\n",
       "      <th>Diseases</th>\n",
       "      <th>occurrence</th>\n",
       "      <th>score</th>\n",
       "    </tr>\n",
       "  </thead>\n",
       "  <tbody>\n",
       "    <tr>\n",
       "      <th>0</th>\n",
       "      <td>Aging - Premature</td>\n",
       "      <td>Respiratory Syncytial Virus Infections</td>\n",
       "      <td>1</td>\n",
       "      <td>3.464551</td>\n",
       "    </tr>\n",
       "    <tr>\n",
       "      <th>1</th>\n",
       "      <td>Aging - Premature</td>\n",
       "      <td>Orthomyxoviridae Infections</td>\n",
       "      <td>1</td>\n",
       "      <td>3.464551</td>\n",
       "    </tr>\n",
       "    <tr>\n",
       "      <th>2</th>\n",
       "      <td>Aging - Premature</td>\n",
       "      <td>HIV Infections</td>\n",
       "      <td>3</td>\n",
       "      <td>10.393654</td>\n",
       "    </tr>\n",
       "    <tr>\n",
       "      <th>3</th>\n",
       "      <td>Aging - Premature</td>\n",
       "      <td>Acquired Immunodeficiency Syndrome</td>\n",
       "      <td>3</td>\n",
       "      <td>10.393654</td>\n",
       "    </tr>\n",
       "    <tr>\n",
       "      <th>4</th>\n",
       "      <td>Aging - Premature</td>\n",
       "      <td>Breast Neoplasms</td>\n",
       "      <td>1</td>\n",
       "      <td>3.464551</td>\n",
       "    </tr>\n",
       "    <tr>\n",
       "      <th>5</th>\n",
       "      <td>Aging - Premature</td>\n",
       "      <td>Colonic Neoplasms</td>\n",
       "      <td>1</td>\n",
       "      <td>3.464551</td>\n",
       "    </tr>\n",
       "    <tr>\n",
       "      <th>6</th>\n",
       "      <td>Aging - Premature</td>\n",
       "      <td>Mammary Neoplasms - Animal</td>\n",
       "      <td>1</td>\n",
       "      <td>3.464551</td>\n",
       "    </tr>\n",
       "    <tr>\n",
       "      <th>7</th>\n",
       "      <td>Aging - Premature</td>\n",
       "      <td>Skin Neoplasms</td>\n",
       "      <td>3</td>\n",
       "      <td>10.393654</td>\n",
       "    </tr>\n",
       "    <tr>\n",
       "      <th>8</th>\n",
       "      <td>Aging - Premature</td>\n",
       "      <td>Neoplasms - Experimental</td>\n",
       "      <td>1</td>\n",
       "      <td>3.464551</td>\n",
       "    </tr>\n",
       "    <tr>\n",
       "      <th>9</th>\n",
       "      <td>Aging - Premature</td>\n",
       "      <td>Cell Transformation - Neoplastic</td>\n",
       "      <td>3</td>\n",
       "      <td>10.393654</td>\n",
       "    </tr>\n",
       "    <tr>\n",
       "      <th>10</th>\n",
       "      <td>Aging - Premature</td>\n",
       "      <td>Neoplastic Syndromes - Hereditary</td>\n",
       "      <td>1</td>\n",
       "      <td>3.464551</td>\n",
       "    </tr>\n",
       "    <tr>\n",
       "      <th>11</th>\n",
       "      <td>Aging - Premature</td>\n",
       "      <td>Li-Fraumeni Syndrome</td>\n",
       "      <td>2</td>\n",
       "      <td>6.929103</td>\n",
       "    </tr>\n",
       "    <tr>\n",
       "      <th>12</th>\n",
       "      <td>Aging - Premature</td>\n",
       "      <td>Bone Diseases</td>\n",
       "      <td>1</td>\n",
       "      <td>3.464551</td>\n",
       "    </tr>\n",
       "    <tr>\n",
       "      <th>13</th>\n",
       "      <td>Aging - Premature</td>\n",
       "      <td>Bone Diseases - Developmental</td>\n",
       "      <td>2</td>\n",
       "      <td>6.929103</td>\n",
       "    </tr>\n",
       "    <tr>\n",
       "      <th>14</th>\n",
       "      <td>Aging - Premature</td>\n",
       "      <td>Cockayne Syndrome</td>\n",
       "      <td>6</td>\n",
       "      <td>20.787309</td>\n",
       "    </tr>\n",
       "  </tbody>\n",
       "</table>\n",
       "</div>"
      ],
      "text/plain": [
       "             Symptoms                                Diseases  occurrence  \\\n",
       "0   Aging - Premature  Respiratory Syncytial Virus Infections           1   \n",
       "1   Aging - Premature             Orthomyxoviridae Infections           1   \n",
       "2   Aging - Premature                          HIV Infections           3   \n",
       "3   Aging - Premature      Acquired Immunodeficiency Syndrome           3   \n",
       "4   Aging - Premature                        Breast Neoplasms           1   \n",
       "5   Aging - Premature                       Colonic Neoplasms           1   \n",
       "6   Aging - Premature              Mammary Neoplasms - Animal           1   \n",
       "7   Aging - Premature                          Skin Neoplasms           3   \n",
       "8   Aging - Premature                Neoplasms - Experimental           1   \n",
       "9   Aging - Premature        Cell Transformation - Neoplastic           3   \n",
       "10  Aging - Premature       Neoplastic Syndromes - Hereditary           1   \n",
       "11  Aging - Premature                    Li-Fraumeni Syndrome           2   \n",
       "12  Aging - Premature                           Bone Diseases           1   \n",
       "13  Aging - Premature           Bone Diseases - Developmental           2   \n",
       "14  Aging - Premature                       Cockayne Syndrome           6   \n",
       "\n",
       "        score  \n",
       "0    3.464551  \n",
       "1    3.464551  \n",
       "2   10.393654  \n",
       "3   10.393654  \n",
       "4    3.464551  \n",
       "5    3.464551  \n",
       "6    3.464551  \n",
       "7   10.393654  \n",
       "8    3.464551  \n",
       "9   10.393654  \n",
       "10   3.464551  \n",
       "11   6.929103  \n",
       "12   3.464551  \n",
       "13   6.929103  \n",
       "14  20.787309  "
      ]
     },
     "execution_count": 9,
     "metadata": {},
     "output_type": "execute_result"
    }
   ],
   "source": [
    "dataf.columns=['Symptoms', 'Diseases', 'occurrence', 'score']\n",
    "dataf.head(15)"
   ]
  },
  {
   "cell_type": "markdown",
   "metadata": {},
   "source": [
    "### Missing Values"
   ]
  },
  {
   "cell_type": "code",
   "execution_count": 10,
   "metadata": {},
   "outputs": [
    {
     "data": {
      "text/plain": [
       "Symptoms      False\n",
       "Diseases      False\n",
       "occurrence    False\n",
       "score         False\n",
       "dtype: bool"
      ]
     },
     "execution_count": 10,
     "metadata": {},
     "output_type": "execute_result"
    }
   ],
   "source": [
    "pd.isnull(dataf).any()"
   ]
  },
  {
   "cell_type": "code",
   "execution_count": 11,
   "metadata": {},
   "outputs": [
    {
     "data": {
      "text/html": [
       "<div>\n",
       "<style scoped>\n",
       "    .dataframe tbody tr th:only-of-type {\n",
       "        vertical-align: middle;\n",
       "    }\n",
       "\n",
       "    .dataframe tbody tr th {\n",
       "        vertical-align: top;\n",
       "    }\n",
       "\n",
       "    .dataframe thead th {\n",
       "        text-align: right;\n",
       "    }\n",
       "</style>\n",
       "<table border=\"1\" class=\"dataframe\">\n",
       "  <thead>\n",
       "    <tr style=\"text-align: right;\">\n",
       "      <th></th>\n",
       "      <th>Total</th>\n",
       "      <th>Percent</th>\n",
       "    </tr>\n",
       "  </thead>\n",
       "  <tbody>\n",
       "    <tr>\n",
       "      <th>score</th>\n",
       "      <td>0</td>\n",
       "      <td>0.0</td>\n",
       "    </tr>\n",
       "    <tr>\n",
       "      <th>occurrence</th>\n",
       "      <td>0</td>\n",
       "      <td>0.0</td>\n",
       "    </tr>\n",
       "    <tr>\n",
       "      <th>Diseases</th>\n",
       "      <td>0</td>\n",
       "      <td>0.0</td>\n",
       "    </tr>\n",
       "    <tr>\n",
       "      <th>Symptoms</th>\n",
       "      <td>0</td>\n",
       "      <td>0.0</td>\n",
       "    </tr>\n",
       "  </tbody>\n",
       "</table>\n",
       "</div>"
      ],
      "text/plain": [
       "            Total  Percent\n",
       "score           0      0.0\n",
       "occurrence      0      0.0\n",
       "Diseases        0      0.0\n",
       "Symptoms        0      0.0"
      ]
     },
     "execution_count": 11,
     "metadata": {},
     "output_type": "execute_result"
    }
   ],
   "source": [
    "total = dataf.isnull().sum().sort_values(ascending=False)\n",
    "percent = (dataf.isnull().sum()/dataf.isnull().count()).sort_values(ascending=False)\n",
    "missing_data = pd.concat([total, percent], axis=1, keys=['Total', 'Percent'])\n",
    "missing_data.head(20)"
   ]
  },
  {
   "cell_type": "code",
   "execution_count": 12,
   "metadata": {},
   "outputs": [
    {
     "name": "stdout",
     "output_type": "stream",
     "text": [
      "=============================== test session starts ===============================\n",
      "platform linux -- Python 3.6.7, pytest-4.3.1, py-1.8.0, pluggy-0.9.0\n",
      "rootdir: /home/tgey/Medicision/IA/Notebooks, inifile:\n",
      "collected 2 items\n",
      "\n",
      "NatureDataset.py ..                                                         [100%]\n",
      "\n",
      "============================ 2 passed in 0.18 seconds =============================\n"
     ]
    }
   ],
   "source": [
    "def test_missing_values():\n",
    "    assert missing_data['Total'].max() == 0\n",
    "\n",
    "ipytest.run()"
   ]
  },
  {
   "cell_type": "code",
   "execution_count": 13,
   "metadata": {},
   "outputs": [
    {
     "data": {
      "text/html": [
       "<div>\n",
       "<style scoped>\n",
       "    .dataframe tbody tr th:only-of-type {\n",
       "        vertical-align: middle;\n",
       "    }\n",
       "\n",
       "    .dataframe tbody tr th {\n",
       "        vertical-align: top;\n",
       "    }\n",
       "\n",
       "    .dataframe thead th {\n",
       "        text-align: right;\n",
       "    }\n",
       "</style>\n",
       "<table border=\"1\" class=\"dataframe\">\n",
       "  <thead>\n",
       "    <tr style=\"text-align: right;\">\n",
       "      <th></th>\n",
       "      <th>occurrence</th>\n",
       "      <th>score</th>\n",
       "    </tr>\n",
       "  </thead>\n",
       "  <tbody>\n",
       "    <tr>\n",
       "      <th>count</th>\n",
       "      <td>147978.000000</td>\n",
       "      <td>147978.000000</td>\n",
       "    </tr>\n",
       "    <tr>\n",
       "      <th>mean</th>\n",
       "      <td>11.886753</td>\n",
       "      <td>16.672997</td>\n",
       "    </tr>\n",
       "    <tr>\n",
       "      <th>std</th>\n",
       "      <td>228.031517</td>\n",
       "      <td>222.439257</td>\n",
       "    </tr>\n",
       "    <tr>\n",
       "      <th>min</th>\n",
       "      <td>1.000000</td>\n",
       "      <td>0.069941</td>\n",
       "    </tr>\n",
       "    <tr>\n",
       "      <th>25%</th>\n",
       "      <td>1.000000</td>\n",
       "      <td>1.639269</td>\n",
       "    </tr>\n",
       "    <tr>\n",
       "      <th>50%</th>\n",
       "      <td>2.000000</td>\n",
       "      <td>2.817924</td>\n",
       "    </tr>\n",
       "    <tr>\n",
       "      <th>75%</th>\n",
       "      <td>4.000000</td>\n",
       "      <td>6.576661</td>\n",
       "    </tr>\n",
       "    <tr>\n",
       "      <th>max</th>\n",
       "      <td>50200.000000</td>\n",
       "      <td>41794.193312</td>\n",
       "    </tr>\n",
       "  </tbody>\n",
       "</table>\n",
       "</div>"
      ],
      "text/plain": [
       "          occurrence          score\n",
       "count  147978.000000  147978.000000\n",
       "mean       11.886753      16.672997\n",
       "std       228.031517     222.439257\n",
       "min         1.000000       0.069941\n",
       "25%         1.000000       1.639269\n",
       "50%         2.000000       2.817924\n",
       "75%         4.000000       6.576661\n",
       "max     50200.000000   41794.193312"
      ]
     },
     "execution_count": 13,
     "metadata": {},
     "output_type": "execute_result"
    }
   ],
   "source": [
    "dataf.describe()"
   ]
  },
  {
   "cell_type": "code",
   "execution_count": 14,
   "metadata": {},
   "outputs": [
    {
     "data": {
      "text/html": [
       "<div>\n",
       "<style scoped>\n",
       "    .dataframe tbody tr th:only-of-type {\n",
       "        vertical-align: middle;\n",
       "    }\n",
       "\n",
       "    .dataframe tbody tr th {\n",
       "        vertical-align: top;\n",
       "    }\n",
       "\n",
       "    .dataframe thead th {\n",
       "        text-align: right;\n",
       "    }\n",
       "</style>\n",
       "<table border=\"1\" class=\"dataframe\">\n",
       "  <thead>\n",
       "    <tr style=\"text-align: right;\">\n",
       "      <th></th>\n",
       "      <th>Number of Symptoms for a disease</th>\n",
       "    </tr>\n",
       "    <tr>\n",
       "      <th>Diseases</th>\n",
       "      <th></th>\n",
       "    </tr>\n",
       "  </thead>\n",
       "  <tbody>\n",
       "    <tr>\n",
       "      <th>22q11 Deletion Syndrome</th>\n",
       "      <td>4</td>\n",
       "    </tr>\n",
       "    <tr>\n",
       "      <th>46 - XX Disorders of Sex Development</th>\n",
       "      <td>1</td>\n",
       "    </tr>\n",
       "    <tr>\n",
       "      <th>46 - XY Disorders of Sex Development</th>\n",
       "      <td>1</td>\n",
       "    </tr>\n",
       "    <tr>\n",
       "      <th>ACTH Syndrome - Ectopic</th>\n",
       "      <td>12</td>\n",
       "    </tr>\n",
       "    <tr>\n",
       "      <th>ACTH-Secreting Pituitary Adenoma</th>\n",
       "      <td>4</td>\n",
       "    </tr>\n",
       "    <tr>\n",
       "      <th>AIDS Arteritis - Central Nervous System</th>\n",
       "      <td>3</td>\n",
       "    </tr>\n",
       "    <tr>\n",
       "      <th>AIDS Dementia Complex</th>\n",
       "      <td>54</td>\n",
       "    </tr>\n",
       "    <tr>\n",
       "      <th>AIDS-Associated Nephropathy</th>\n",
       "      <td>9</td>\n",
       "    </tr>\n",
       "    <tr>\n",
       "      <th>AIDS-Related Complex</th>\n",
       "      <td>30</td>\n",
       "    </tr>\n",
       "    <tr>\n",
       "      <th>AIDS-Related Opportunistic Infections</th>\n",
       "      <td>88</td>\n",
       "    </tr>\n",
       "    <tr>\n",
       "      <th>Abdominal Abscess</th>\n",
       "      <td>34</td>\n",
       "    </tr>\n",
       "    <tr>\n",
       "      <th>Abdominal Injuries</th>\n",
       "      <td>63</td>\n",
       "    </tr>\n",
       "    <tr>\n",
       "      <th>Abdominal Neoplasms</th>\n",
       "      <td>66</td>\n",
       "    </tr>\n",
       "    <tr>\n",
       "      <th>Abducens Nerve Diseases</th>\n",
       "      <td>48</td>\n",
       "    </tr>\n",
       "    <tr>\n",
       "      <th>Abducens Nerve Injury</th>\n",
       "      <td>7</td>\n",
       "    </tr>\n",
       "  </tbody>\n",
       "</table>\n",
       "</div>"
      ],
      "text/plain": [
       "                                         Number of Symptoms for a disease\n",
       "Diseases                                                                 \n",
       "22q11 Deletion Syndrome                                                 4\n",
       "46 - XX Disorders of Sex Development                                    1\n",
       "46 - XY Disorders of Sex Development                                    1\n",
       "ACTH Syndrome - Ectopic                                                12\n",
       "ACTH-Secreting Pituitary Adenoma                                        4\n",
       "AIDS Arteritis - Central Nervous System                                 3\n",
       "AIDS Dementia Complex                                                  54\n",
       "AIDS-Associated Nephropathy                                             9\n",
       "AIDS-Related Complex                                                   30\n",
       "AIDS-Related Opportunistic Infections                                  88\n",
       "Abdominal Abscess                                                      34\n",
       "Abdominal Injuries                                                     63\n",
       "Abdominal Neoplasms                                                    66\n",
       "Abducens Nerve Diseases                                                48\n",
       "Abducens Nerve Injury                                                   7"
      ]
     },
     "execution_count": 14,
     "metadata": {},
     "output_type": "execute_result"
    }
   ],
   "source": [
    "dfGroup = dataf.groupby(\"Diseases\")[[\"Symptoms\"]]\n",
    "nbSymptoms = dfGroup.count()\n",
    "nbSymptoms.sort_values(\"Symptoms\").reset_index()\n",
    "nbSymptoms.columns=['Number of Symptoms for a disease']\n",
    "nbSymptoms.head(15)"
   ]
  },
  {
   "cell_type": "code",
   "execution_count": 15,
   "metadata": {},
   "outputs": [],
   "source": [
    "def test_symptoms_agregation():\n",
    "    assert ('Number of Symptoms for a disease' in nbSymptoms.columns) == True\n",
    "    assert nbSymptoms.size != 0"
   ]
  },
  {
   "cell_type": "code",
   "execution_count": 16,
   "metadata": {},
   "outputs": [
    {
     "data": {
      "text/html": [
       "<div>\n",
       "<style scoped>\n",
       "    .dataframe tbody tr th:only-of-type {\n",
       "        vertical-align: middle;\n",
       "    }\n",
       "\n",
       "    .dataframe tbody tr th {\n",
       "        vertical-align: top;\n",
       "    }\n",
       "\n",
       "    .dataframe thead th {\n",
       "        text-align: right;\n",
       "    }\n",
       "</style>\n",
       "<table border=\"1\" class=\"dataframe\">\n",
       "  <thead>\n",
       "    <tr style=\"text-align: right;\">\n",
       "      <th></th>\n",
       "      <th>Number of Diseases</th>\n",
       "    </tr>\n",
       "    <tr>\n",
       "      <th>Symptoms</th>\n",
       "      <th></th>\n",
       "    </tr>\n",
       "  </thead>\n",
       "  <tbody>\n",
       "    <tr>\n",
       "      <th>Abdomen - Acute</th>\n",
       "      <td>1002</td>\n",
       "    </tr>\n",
       "    <tr>\n",
       "      <th>Abdominal Pain</th>\n",
       "      <td>1599</td>\n",
       "    </tr>\n",
       "    <tr>\n",
       "      <th>Acute Coronary Syndrome</th>\n",
       "      <td>314</td>\n",
       "    </tr>\n",
       "    <tr>\n",
       "      <th>Aerophagy</th>\n",
       "      <td>72</td>\n",
       "    </tr>\n",
       "    <tr>\n",
       "      <th>Ageusia</th>\n",
       "      <td>117</td>\n",
       "    </tr>\n",
       "    <tr>\n",
       "      <th>Aging - Premature</th>\n",
       "      <td>132</td>\n",
       "    </tr>\n",
       "    <tr>\n",
       "      <th>Agnosia</th>\n",
       "      <td>303</td>\n",
       "    </tr>\n",
       "    <tr>\n",
       "      <th>Agraphia</th>\n",
       "      <td>148</td>\n",
       "    </tr>\n",
       "    <tr>\n",
       "      <th>Akathisia - Drug-Induced</th>\n",
       "      <td>188</td>\n",
       "    </tr>\n",
       "    <tr>\n",
       "      <th>Albuminuria</th>\n",
       "      <td>535</td>\n",
       "    </tr>\n",
       "    <tr>\n",
       "      <th>Alexia - Pure</th>\n",
       "      <td>40</td>\n",
       "    </tr>\n",
       "    <tr>\n",
       "      <th>Alien Hand Syndrome</th>\n",
       "      <td>15</td>\n",
       "    </tr>\n",
       "    <tr>\n",
       "      <th>Amaurosis Fugax</th>\n",
       "      <td>126</td>\n",
       "    </tr>\n",
       "    <tr>\n",
       "      <th>Amblyopia</th>\n",
       "      <td>325</td>\n",
       "    </tr>\n",
       "    <tr>\n",
       "      <th>Amnesia</th>\n",
       "      <td>428</td>\n",
       "    </tr>\n",
       "  </tbody>\n",
       "</table>\n",
       "</div>"
      ],
      "text/plain": [
       "                          Number of Diseases\n",
       "Symptoms                                    \n",
       "Abdomen - Acute                         1002\n",
       "Abdominal Pain                          1599\n",
       "Acute Coronary Syndrome                  314\n",
       "Aerophagy                                 72\n",
       "Ageusia                                  117\n",
       "Aging - Premature                        132\n",
       "Agnosia                                  303\n",
       "Agraphia                                 148\n",
       "Akathisia - Drug-Induced                 188\n",
       "Albuminuria                              535\n",
       "Alexia - Pure                             40\n",
       "Alien Hand Syndrome                       15\n",
       "Amaurosis Fugax                          126\n",
       "Amblyopia                                325\n",
       "Amnesia                                  428"
      ]
     },
     "execution_count": 16,
     "metadata": {},
     "output_type": "execute_result"
    }
   ],
   "source": [
    "nbDiseases = dataf.groupby(\"Symptoms\")[[\"Diseases\"]].count()\n",
    "nbDiseases.sort_values(\"Diseases\").reset_index()\n",
    "nbDiseases.columns=['Number of Diseases']\n",
    "nbDiseases.head(15)"
   ]
  },
  {
   "cell_type": "code",
   "execution_count": 17,
   "metadata": {},
   "outputs": [],
   "source": [
    "def test_diseases_agregation():\n",
    "    assert ('Number of Diseases' in nbDiseases.columns) == True\n",
    "    assert nbDiseases.size != 0\n"
   ]
  },
  {
   "cell_type": "code",
   "execution_count": null,
   "metadata": {},
   "outputs": [],
   "source": []
  }
 ],
 "metadata": {
  "kernelspec": {
   "display_name": "Medicision",
   "language": "python",
   "name": "medicision"
  },
  "language_info": {
   "codemirror_mode": {
    "name": "ipython",
    "version": 3
   },
   "file_extension": ".py",
   "mimetype": "text/x-python",
   "name": "python",
   "nbconvert_exporter": "python",
   "pygments_lexer": "ipython3",
   "version": "3.6.7"
  }
 },
 "nbformat": 4,
 "nbformat_minor": 2
}
